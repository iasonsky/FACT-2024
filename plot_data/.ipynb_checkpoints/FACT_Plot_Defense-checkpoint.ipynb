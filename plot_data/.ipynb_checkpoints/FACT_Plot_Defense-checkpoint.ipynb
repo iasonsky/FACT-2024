{
 "cells": [
  {
   "cell_type": "code",
   "execution_count": null,
   "metadata": {
    "ExecuteTime": {
     "end_time": "2024-01-19T19:32:40.764872Z",
     "start_time": "2024-01-19T19:32:40.752581Z"
    },
    "id": "YtxMT2ffdMPo"
   },
   "outputs": [],
   "source": [
    "import numpy as np\n",
    "import matplotlib.pyplot as plt\n",
    "import os\n",
    "import pickle"
   ]
  },
  {
   "cell_type": "code",
   "execution_count": null,
   "metadata": {
    "ExecuteTime": {
     "end_time": "2024-01-19T19:32:40.780343Z",
     "start_time": "2024-01-19T19:32:40.773226Z"
    },
    "id": "lR3ueruckBhZ"
   },
   "outputs": [],
   "source": [
    "Yale_CFC_pre_res1 = {0: {'BALANCE': [0.05365079365079365], 'ENTROPY': [6.857550912713844], 'ACC': [0.10946745562130178], 'NMI': [0.16035462514887944]}, 1: {'BALANCE': [0.09988179669030733], 'ENTROPY': [6.0779150529746975], 'ACC': [0.11183431952662722], 'NMI': [0.15192627445792287]}, 2: {'BALANCE': [0.15410334346504562], 'ENTROPY': [5.897180457817447], 'ACC': [0.11183431952662722], 'NMI': [0.15779805680325382]}, 3: {'BALANCE': [0.19976359338061467], 'ENTROPY': [6.166547461771361], 'ACC': [0.1059171597633136], 'NMI': [0.15359944600175188]}, 4: {'BALANCE': [0.18777777777777777], 'ENTROPY': [6.0398304810262635], 'ACC': [0.10887573964497041], 'NMI': [0.1529482483064923]}, 5: {'BALANCE': [0.15022222222222223], 'ENTROPY': [6.166016494942182], 'ACC': [0.11005917159763313], 'NMI': [0.1570944801338286]}, 6: {'BALANCE': [0.08841995116846879], 'ENTROPY': [7.2139927039393], 'ACC': [0.10828402366863905], 'NMI': [0.16713998285044238]}, 7: {'BALANCE': [0.13317572892040977], 'ENTROPY': [5.1537989682011585], 'ACC': [0.10650887573964497], 'NMI': [0.15323776967322478]}, 8: {'BALANCE': [0.07816836262719705], 'ENTROPY': [5.403116064109307], 'ACC': [0.10118343195266272], 'NMI': [0.16360134442027957]}}\n",
    "Yale_CFC_post_res1 = {0: {'BALANCE': [0.28549019607843135], 'ENTROPY': [6.386322142490468], 'ACC': [0.11834319526627218], 'NMI': [0.15836623288903104]}, 1: {'BALANCE': [0.0946778711484594], 'ENTROPY': [4.900895915090255], 'ACC': [0.10473372781065089], 'NMI': [0.1469399300982246]}, 2: {'BALANCE': [0.04598639455782313], 'ENTROPY': [5.688618490423632], 'ACC': [0.09763313609467456], 'NMI': [0.15201979138191551]}, 3: {'BALANCE': [0.03525239883187318], 'ENTROPY': [4.68476412703078], 'ACC': [0.09644970414201183], 'NMI': [0.13753244158112474]}, 4: {'BALANCE': [0], 'ENTROPY': [5.144893029635455], 'ACC': [0.10414201183431952], 'NMI': [0.1515607702612772]}, 5: {'BALANCE': [0.09388888888888888], 'ENTROPY': [5.6610695965341336], 'ACC': [0.10059171597633136], 'NMI': [0.1524865481401003]}, 6: {'BALANCE': [0.11236702127659576], 'ENTROPY': [8.268519096248795], 'ACC': [0.11242603550295859], 'NMI': [0.16863668974511314]}, 7: {'BALANCE': [0.09988179669030733], 'ENTROPY': [5.480047198464658], 'ACC': [0.10532544378698225], 'NMI': [0.1620631845035294]}, 8: {'BALANCE': [0.256838905775076], 'ENTROPY': [7.564316109268739], 'ACC': [0.10710059171597633], 'NMI': [0.16672996469097612]}}"
   ]
  },
  {
   "cell_type": "code",
   "execution_count": null,
   "metadata": {
    "ExecuteTime": {
     "end_time": "2024-01-19T19:32:40.806185Z",
     "start_time": "2024-01-19T19:32:40.789934Z"
    },
    "id": "tNMJ-9_Bd3Qu"
   },
   "outputs": [],
   "source": [
    "Yale_CFC_pre_res2 = {0: {'BALANCE': [0.14193729003359462], 'ENTROPY': [5.783087663068249], 'ACC': [0.11124260355029586], 'NMI': [0.16428006429466774]}, 1: {'BALANCE': [0.3045045045045045], 'ENTROPY': [6.851386772870851], 'ACC': [0.10710059171597633], 'NMI': [0.16605581555731902]}, 2: {'BALANCE': [0.19976359338061467], 'ENTROPY': [7.6646689560233145], 'ACC': [0.10355029585798817], 'NMI': [0.15584856690124516]}, 3: {'BALANCE': [0], 'ENTROPY': [7.589217079535432], 'ACC': [0.10473372781065089], 'NMI': [0.153695842123835]}, 4: {'BALANCE': [0.14193729003359462], 'ENTROPY': [6.272050424986645], 'ACC': [0.10355029585798817], 'NMI': [0.16538008870213372]}, 5: {'BALANCE': [0.14306878306878307], 'ENTROPY': [5.3908456013404376], 'ACC': [0.09881656804733728], 'NMI': [0.14822877716811333]}, 6: {'BALANCE': [0.23045454545454547], 'ENTROPY': [6.284062109638473], 'ACC': [0.10295857988165681], 'NMI': [0.14793982445650555]}, 7: {'BALANCE': [0.07191489361702129], 'ENTROPY': [5.859170485103067], 'ACC': [0.10473372781065089], 'NMI': [0.15330859596874263]}, 8: {'BALANCE': [0.17978723404255323], 'ENTROPY': [7.206701895373406], 'ACC': [0.11242603550295859], 'NMI': [0.16144654911836614]}}\n",
    "Yale_CFC_post_res2 = {0: {'BALANCE': [0.2397163120567376], 'ENTROPY': [8.057260316540535], 'ACC': [0.1076923076923077], 'NMI': [0.17056847760603724]}, 1: {'BALANCE': [0.37555555555555553], 'ENTROPY': [7.719503822974664], 'ACC': [0.10946745562130178], 'NMI': [0.16962624222393113]}, 2: {'BALANCE': [0.08989361702127661], 'ENTROPY': [6.356698826806172], 'ACC': [0.09644970414201183], 'NMI': [0.1530106112331994]}, 3: {'BALANCE': [0], 'ENTROPY': [5.700703199166011], 'ACC': [0.09822485207100591], 'NMI': [0.14789896820002002]}, 4: {'BALANCE': [0.09797101449275362], 'ENTROPY': [5.509898314456925], 'ACC': [0.1], 'NMI': [0.14672396162184628]}, 5: {'BALANCE': [0.04731243001119821], 'ENTROPY': [5.696477364661662], 'ACC': [0.10473372781065089], 'NMI': [0.14709659686783874]}, 6: {'BALANCE': [0.09988179669030733], 'ENTROPY': [5.524439999741704], 'ACC': [0.10295857988165681], 'NMI': [0.14282255843338562]}, 7: {'BALANCE': [0], 'ENTROPY': [4.7348054970226725], 'ACC': [0.1], 'NMI': [0.14082872364960777]}, 8: {'BALANCE': [0.20430367504835592], 'ENTROPY': [6.277001446558568], 'ACC': [0.11479289940828402], 'NMI': [0.16977464294431754]}}"
   ]
  },
  {
   "cell_type": "code",
   "execution_count": null,
   "metadata": {
    "ExecuteTime": {
     "end_time": "2024-01-19T19:32:40.826740Z",
     "start_time": "2024-01-19T19:32:40.809188Z"
    },
    "id": "FP3MnxnzeDDb"
   },
   "outputs": [],
   "source": [
    "Yale_CFC_pre_res3 = {0: {'BALANCE': [0.22951561792666364], 'ENTROPY': [7.369925472320404], 'ACC': [0.10295857988165681], 'NMI': [0.16166956895657889]}, 1: {'BALANCE': [0.16899999999999998], 'ENTROPY': [6.158586229327698], 'ACC': [0.10414201183431952], 'NMI': [0.15070615556364353]}, 2: {'BALANCE': [0.4894535519125683], 'ENTROPY': [7.319679408310704], 'ACC': [0.11420118343195267], 'NMI': [0.1561936013109697]}, 3: {'BALANCE': [0], 'ENTROPY': [7.921756017962838], 'ACC': [0.12011834319526628], 'NMI': [0.17259717577123987]}, 4: {'BALANCE': [0.4096969696969697], 'ENTROPY': [7.743256139383837], 'ACC': [0.10650887573964497], 'NMI': [0.1611500443094077]}, 5: {'BALANCE': [0.14382978723404258], 'ENTROPY': [5.5238273804837625], 'ACC': [0.11005917159763313], 'NMI': [0.15075126505550887]}, 6: {'BALANCE': [0.128419452887538], 'ENTROPY': [7.59803613095662], 'ACC': [0.12781065088757396], 'NMI': [0.19646253008832984]}, 7: {'BALANCE': [0.09462486002239642], 'ENTROPY': [6.02104167851466], 'ACC': [0.1076923076923077], 'NMI': [0.16308601267418618]}, 8: {'BALANCE': [0.22533333333333336], 'ENTROPY': [6.779656832629214], 'ACC': [0.11420118343195267], 'NMI': [0.17029228186596154]}}\n",
    "Yale_CFC_post_res3 = {0: {'BALANCE': [0.1073015873015873], 'ENTROPY': [6.13022850616988], 'ACC': [0.11183431952662722], 'NMI': [0.1646768091237931]}, 1: {'BALANCE': [0], 'ENTROPY': [5.848430798700245], 'ACC': [0.10414201183431952], 'NMI': [0.13901308689082523]}, 2: {'BALANCE': [0.051212121212121216], 'ENTROPY': [5.6344214428970965], 'ACC': [0.10295857988165681], 'NMI': [0.14344173783421346]}, 3: {'BALANCE': [0], 'ENTROPY': [5.284278581484639], 'ACC': [0.09881656804733728], 'NMI': [0.16069511300049116]}, 4: {'BALANCE': [0.04609929078014185], 'ENTROPY': [5.596189431914012], 'ACC': [0.10295857988165681], 'NMI': [0.1440855313859088]}, 5: {'BALANCE': [0.12876190476190477], 'ENTROPY': [7.286135452634222], 'ACC': [0.10887573964497041], 'NMI': [0.16054221700628352]}, 6: {'BALANCE': [0.3508043591074209], 'ENTROPY': [7.663225473817781], 'ACC': [0.11597633136094675], 'NMI': [0.17019229801486666]}, 7: {'BALANCE': [0.15863579474342931], 'ENTROPY': [5.78940513459335], 'ACC': [0.1059171597633136], 'NMI': [0.16021476217934977]}, 8: {'BALANCE': [0.09013333333333334], 'ENTROPY': [6.297900706073838], 'ACC': [0.10355029585798817], 'NMI': [0.15145258455717692]}}"
   ]
  },
  {
   "cell_type": "code",
   "execution_count": null,
   "metadata": {
    "ExecuteTime": {
     "end_time": "2024-01-19T19:32:40.853028Z",
     "start_time": "2024-01-19T19:32:40.838826Z"
    },
    "id": "az0Lz6zY0vvp"
   },
   "outputs": [],
   "source": [
    "Office_CFC_pre_res1 = {0: {'BALANCE': [0.4301552106430155], 'ENTROPY': [5.827177711072734], 'ACC': [0.48711340206185566], 'NMI': [0.680259392866343]}, 1: {'BALANCE': [0.6320647993121861], 'ENTROPY': [6.191650418845674], 'ACC': [0.5412371134020618], 'NMI': [0.7190293278268413]}, 2: {'BALANCE': [0.6918875797741777], 'ENTROPY': [6.584970541354412], 'ACC': [0.5352233676975945], 'NMI': [0.7074233535128316]}, 3: {'BALANCE': [0.719275925993239], 'ENTROPY': [5.91208395371477], 'ACC': [0.49140893470790376], 'NMI': [0.6872994710894311]}, 4: {'BALANCE': [0.6194235033259423], 'ENTROPY': [5.572249636453801], 'ACC': [0.47594501718213056], 'NMI': [0.6665876498930805]}, 5: {'BALANCE': [0.6194235033259423], 'ENTROPY': [5.8431683858812455], 'ACC': [0.5266323024054983], 'NMI': [0.7121559294350279]}, 6: {'BALANCE': [0.6780498281786942], 'ENTROPY': [6.202401299873795], 'ACC': [0.552405498281787], 'NMI': [0.7129894226459342]}, 7: {'BALANCE': [0.6924449732302201], 'ENTROPY': [5.869851170977579], 'ACC': [0.49828178694158076], 'NMI': [0.6816192981078564]}, 8: {'BALANCE': [0.5665458871883619], 'ENTROPY': [6.164714031437032], 'ACC': [0.5146048109965635], 'NMI': [0.6961705302665788]}}\n",
    "Office_CFC_post_res1 =  {0: {'BALANCE': [0.5923448802297263], 'ENTROPY': [5.859519951856571], 'ACC': [0.4802405498281787], 'NMI': [0.6718512745329295]}, 1: {'BALANCE': [0.5339857787292607], 'ENTROPY': [5.904491268502479], 'ACC': [0.4948453608247423], 'NMI': [0.6767595441545085]}, 2: {'BALANCE': [0.7169253510716925], 'ENTROPY': [6.207399842857969], 'ACC': [0.5283505154639175], 'NMI': [0.7030668742416136]}, 3: {'BALANCE': [0.6072779444371984], 'ENTROPY': [5.752081710742113], 'ACC': [0.47594501718213056], 'NMI': [0.684698049422903]}, 4: {'BALANCE': [0.7180034343063868], 'ENTROPY': [5.9479172989878375], 'ACC': [0.46735395189003437], 'NMI': [0.6639066484315777]}, 5: {'BALANCE': [0.6320647993121861], 'ENTROPY': [5.516413771336705], 'ACC': [0.48195876288659795], 'NMI': [0.6908614817967732]}, 6: {'BALANCE': [0.6320647993121861], 'ENTROPY': [5.84887777686426], 'ACC': [0.520618556701031], 'NMI': [0.7072636355543348]}, 7: {'BALANCE': [0.5936503888818054], 'ENTROPY': [5.829749260317657], 'ACC': [0.5180412371134021], 'NMI': [0.7066543967569338]}, 8: {'BALANCE': [0.5161862527716187], 'ENTROPY': [6.179367936294099], 'ACC': [0.5163230240549829], 'NMI': [0.6951862689470163]}}"
   ]
  },
  {
   "cell_type": "code",
   "execution_count": null,
   "metadata": {
    "ExecuteTime": {
     "end_time": "2024-01-19T19:32:40.874345Z",
     "start_time": "2024-01-19T19:32:40.845834Z"
    },
    "id": "LEaBHB7P05Tg"
   },
   "outputs": [],
   "source": [
    "Office_CFC_pre_res2= {0: {'BALANCE': [0.6194235033259423], 'ENTROPY': [5.81993443480428], 'ACC': [0.49140893470790376], 'NMI': [0.6865515417891584]}, 1: {'BALANCE': [0.5459662288930581], 'ENTROPY': [6.181044164813665], 'ACC': [0.48281786941580757], 'NMI': [0.6717183410757198]}, 2: {'BALANCE': [0.6194235033259423], 'ENTROPY': [5.867943058532997], 'ACC': [0.4991408934707904], 'NMI': [0.6841424557231274]}, 3: {'BALANCE': [0.49953508332737284], 'ENTROPY': [6.078608979101168], 'ACC': [0.5008591065292096], 'NMI': [0.6956559381309976]}, 4: {'BALANCE': [0.5865752872404757], 'ENTROPY': [6.19777890992577], 'ACC': [0.4879725085910653], 'NMI': [0.6802251922134358]}, 5: {'BALANCE': [0.5060649536976652], 'ENTROPY': [6.164923002302593], 'ACC': [0.4725085910652921], 'NMI': [0.6643291504706472]}, 6: {'BALANCE': [0.7084909351767315], 'ENTROPY': [5.952234844084407], 'ACC': [0.4957044673539519], 'NMI': [0.6743232935317813]}, 7: {'BALANCE': [0.6194235033259423], 'ENTROPY': [6.181807904000105], 'ACC': [0.48195876288659795], 'NMI': [0.6862886840959793]}, 8: {'BALANCE': [0.6674822234115758], 'ENTROPY': [6.235042511769408], 'ACC': [0.5], 'NMI': [0.6733315534474948]}}\n",
    "Office_CFC_post_res2 = {0: {'BALANCE': [0.6213353042621335], 'ENTROPY': [5.5096678365532465], 'ACC': [0.44673539518900346], 'NMI': [0.6499656723026613]}, 1: {'BALANCE': [0.5249351723101207], 'ENTROPY': [6.1581003389996125], 'ACC': [0.5249140893470791], 'NMI': [0.710271956043499]}, 2: {'BALANCE': [0.5267206660934884], 'ENTROPY': [5.5177004465847865], 'ACC': [0.4570446735395189], 'NMI': [0.668364855504131]}, 3: {'BALANCE': [0.6959814644111711], 'ENTROPY': [6.206351874102743], 'ACC': [0.5085910652920962], 'NMI': [0.6900149243763144]}, 4: {'BALANCE': [0.6538359201773837], 'ENTROPY': [6.254371579773686], 'ACC': [0.5378006872852233], 'NMI': [0.7236795404612643]}, 5: {'BALANCE': [0.6339129420002333], 'ENTROPY': [6.542046544678584], 'ACC': [0.5257731958762887], 'NMI': [0.699454397580911]}, 6: {'BALANCE': [0.6010387874738025], 'ENTROPY': [6.162540873105038], 'ACC': [0.5378006872852233], 'NMI': [0.7027754733129997]}, 7: {'BALANCE': [0.629495430209291], 'ENTROPY': [6.233889294757578], 'ACC': [0.5532646048109966], 'NMI': [0.7109387958727491]}, 8: {'BALANCE': [0.6320647993121861], 'ENTROPY': [6.211084439827166], 'ACC': [0.4484536082474227], 'NMI': [0.6655706783726955]}}"
   ]
  },
  {
   "cell_type": "code",
   "execution_count": null,
   "metadata": {
    "ExecuteTime": {
     "end_time": "2024-01-19T19:32:40.899047Z",
     "start_time": "2024-01-19T19:32:40.881502Z"
    },
    "id": "-nEdBehS1Ar8"
   },
   "outputs": [],
   "source": [
    "Office_CFC_pre_res3 =  {0: {'BALANCE': [0.5161862527716187], 'ENTROPY': [5.808771455960825], 'ACC': [0.49312714776632305], 'NMI': [0.6864203748052441]}, 1: {'BALANCE': [0.5161862527716187], 'ENTROPY': [6.164149927614579], 'ACC': [0.49828178694158076], 'NMI': [0.6947868524202393]}, 2: {'BALANCE': [0.6213353042621335], 'ENTROPY': [5.501250884712958], 'ACC': [0.49054982817869414], 'NMI': [0.6891097516495938]}, 3: {'BALANCE': [0.5161862527716187], 'ENTROPY': [5.846443612630685], 'ACC': [0.4853951890034364], 'NMI': [0.6654360596495925]}, 4: {'BALANCE': [0.6072779444371984], 'ENTROPY': [6.149594264566323], 'ACC': [0.5137457044673539], 'NMI': [0.685216020789135]}, 5: {'BALANCE': [0.6194235033259423], 'ENTROPY': [5.830641040491761], 'ACC': [0.5438144329896907], 'NMI': [0.7095894235212113]}, 6: {'BALANCE': [0.6499279459040018], 'ENTROPY': [5.867184205864721], 'ACC': [0.44673539518900346], 'NMI': [0.6701676355651521]}, 7: {'BALANCE': [0.5761900833264582], 'ENTROPY': [5.859752812593124], 'ACC': [0.5146048109965635], 'NMI': [0.7046104655460299]}, 8: {'BALANCE': [0.6538359201773837], 'ENTROPY': [5.898870119084322], 'ACC': [0.5257731958762887], 'NMI': [0.7090500747397762]}}\n",
    "Office_CFC_post_res3 = {0: {'BALANCE': [0.6167367928938756], 'ENTROPY': [5.515984122848877], 'ACC': [0.49226804123711343], 'NMI': [0.6966708162632393]}, 1: {'BALANCE': [0.6642120765832106], 'ENTROPY': [6.2139678086249175], 'ACC': [0.5420962199312714], 'NMI': [0.7254889875180854]}, 2: {'BALANCE': [0.6320647993121861], 'ENTROPY': [5.547063672928319], 'ACC': [0.49140893470790376], 'NMI': [0.7033896109792723]}, 3: {'BALANCE': [0.6703717568462578], 'ENTROPY': [5.935197554988372], 'ACC': [0.46134020618556704], 'NMI': [0.6669424588095391]}, 4: {'BALANCE': [0.6277940912087254], 'ENTROPY': [6.175905525335963], 'ACC': [0.5025773195876289], 'NMI': [0.6853374830945836]}, 5: {'BALANCE': [0.7038903446885708], 'ENTROPY': [5.9258207025238505], 'ACC': [0.48281786941580757], 'NMI': [0.659017710281378]}, 6: {'BALANCE': [0.6617772471431007], 'ENTROPY': [5.870048440987588], 'ACC': [0.4879725085910653], 'NMI': [0.6866162574906906]}, 7: {'BALANCE': [0.6365365733922435], 'ENTROPY': [6.176734445047549], 'ACC': [0.538659793814433], 'NMI': [0.7274468646769211]}, 8: {'BALANCE': [0.6320647993121861], 'ENTROPY': [5.511839857973013], 'ACC': [0.49742268041237114], 'NMI': [0.70324543315702]}}"
   ]
  },
  {
   "cell_type": "code",
   "execution_count": null,
   "metadata": {},
   "outputs": [],
   "source": [
    "MNIST_CFC_pre_res1 = {0: {'BALANCE': [0.5209582890633032], 'ENTROPY': [2.5298425392697244], 'ACC': [0.3244360902255639], 'NMI': [0.2307697023525431]}, 1: {'BALANCE': [0.4026199190907339], 'ENTROPY': [2.8130693637965516], 'ACC': [0.362406015037594], 'NMI': [0.242924073789186]}, 2: {'BALANCE': [0.4627786047051091], 'ENTROPY': [2.549512817368422], 'ACC': [0.324812030075188], 'NMI': [0.23044186773509404]}, 3: {'BALANCE': [0.39557236545334673], 'ENTROPY': [2.840691087519578], 'ACC': [0.36428571428571427], 'NMI': [0.26702583424259807]}, 4: {'BALANCE': [0.5344902729902135], 'ENTROPY': [2.560081656139411], 'ACC': [0.3609022556390977], 'NMI': [0.2334466458144873]}, 5: {'BALANCE': [0.42015828677839845], 'ENTROPY': [2.7693047110487745], 'ACC': [0.3868421052631579], 'NMI': [0.2768477368318506]}, 6: {'BALANCE': [0.3177136776498309], 'ENTROPY': [2.6734872573470585], 'ACC': [0.34135338345864663], 'NMI': [0.2235010515351963]}, 7: {'BALANCE': [0.32551210428305394], 'ENTROPY': [2.4807160298557425], 'ACC': [0.34172932330827066], 'NMI': [0.22306647413701014]}, 8: {'BALANCE': [0.49950706539599077], 'ENTROPY': [2.615738847972821], 'ACC': [0.37669172932330824], 'NMI': [0.24495133745626554]}}\n",
    "MNIST_CFC_post_res1 = {0: {'BALANCE': [0.3117552838223229], 'ENTROPY': [2.4641195401843685], 'ACC': [0.381203007518797], 'NMI': [0.2544571949552321]}, 1: {'BALANCE': [0.28577567683712934], 'ENTROPY': [2.7530263087788702], 'ACC': [0.4319548872180451], 'NMI': [0.308479217257191]}, 2: {'BALANCE': [0.3695745595186936], 'ENTROPY': [2.5095214776661283], 'ACC': [0.3868421052631579], 'NMI': [0.28093111436533574]}, 3: {'BALANCE': [0.5495016268140268], 'ENTROPY': [2.904995617987744], 'ACC': [0.36917293233082704], 'NMI': [0.2570274182796566]}, 4: {'BALANCE': [0.4452503835960385], 'ENTROPY': [2.5535492557774324], 'ACC': [0.3966165413533835], 'NMI': [0.27739671519354064]}, 5: {'BALANCE': [0.4471126675746037], 'ENTROPY': [2.551346700119683], 'ACC': [0.3969924812030075], 'NMI': [0.2780170164312012]}, 6: {'BALANCE': [0.28577567683712934], 'ENTROPY': [2.7852431218127585], 'ACC': [0.42218045112781954], 'NMI': [0.29868260924120554]}, 7: {'BALANCE': [0.4533096598790434], 'ENTROPY': [2.5489019245936406], 'ACC': [0.38834586466165416], 'NMI': [0.27830631508437886]}, 8: {'BALANCE': [0.3444448555255466], 'ENTROPY': [2.514000468996417], 'ACC': [0.39473684210526316], 'NMI': [0.27702121335012436]}}"
   ]
  },
  {
   "cell_type": "code",
   "execution_count": null,
   "metadata": {},
   "outputs": [],
   "source": [
    "MNIST_CFC_pre_res2 = {0: {'BALANCE': [0.3173414732477106], 'ENTROPY': [2.474290786816433], 'ACC': [0.4056390977443609], 'NMI': [0.2805174693076089]}, 1: {'BALANCE': [0.3206471135940409], 'ENTROPY': [2.4798114327280594], 'ACC': [0.40338345864661657], 'NMI': [0.2813922678747886]}, 2: {'BALANCE': [0.43900348445040716], 'ENTROPY': [2.8145981812330607], 'ACC': [0.424812030075188], 'NMI': [0.3032203867379024]}, 3: {'BALANCE': [0.44171665039289537], 'ENTROPY': [2.530086812237399], 'ACC': [0.4030075187969925], 'NMI': [0.2769272382665773]}, 4: {'BALANCE': [0.4471126675746037], 'ENTROPY': [2.5203527129609444], 'ACC': [0.39849624060150374], 'NMI': [0.28421255903629694]}, 5: {'BALANCE': [0.43493663986919195], 'ENTROPY': [2.7826354195162226], 'ACC': [0.40075187969924814], 'NMI': [0.29634013334292886]}, 6: {'BALANCE': [0.3840431206310884], 'ENTROPY': [2.4967551057224737], 'ACC': [0.40225563909774437], 'NMI': [0.2807872130654733]}, 7: {'BALANCE': [0.43900348445040716], 'ENTROPY': [2.815997690856776], 'ACC': [0.431203007518797], 'NMI': [0.3053983308572967]}, 8: {'BALANCE': [0.35762199395286437], 'ENTROPY': [2.5011592223796457], 'ACC': [0.3672932330827068], 'NMI': [0.2564122262459327]}}\n",
    "MNIST_CFC_post_res2 = {0: {'BALANCE': [0.4425438351314588], 'ENTROPY': [2.811147496329432], 'ACC': [0.40789473684210525], 'NMI': [0.2887531108861622]}, 1: {'BALANCE': [0.4370686822214919], 'ENTROPY': [2.5023781969305454], 'ACC': [0.40827067669172934], 'NMI': [0.2856894505163625]}, 2: {'BALANCE': [0.2787653066982676], 'ENTROPY': [2.7653100203947663], 'ACC': [0.4142857142857143], 'NMI': [0.2941996516998156]}, 3: {'BALANCE': [0.31135940409683427], 'ENTROPY': [2.4818918233186897], 'ACC': [0.3849624060150376], 'NMI': [0.27610378256944623]}, 4: {'BALANCE': [0.3150912106135987], 'ENTROPY': [2.7157407349298257], 'ACC': [0.387593984962406], 'NMI': [0.25154883484986856]}, 5: {'BALANCE': [0.30074487895716945], 'ENTROPY': [2.7695820128674917], 'ACC': [0.3954887218045113], 'NMI': [0.2902130932494803]}, 6: {'BALANCE': [0.18954509177972864], 'ENTROPY': [2.6790850413883502], 'ACC': [0.42781954887218043], 'NMI': [0.3000395138482303]}, 7: {'BALANCE': [0.15770151636073423], 'ENTROPY': [2.406024217793038], 'ACC': [0.38421052631578945], 'NMI': [0.2627039517078134]}, 8: {'BALANCE': [0.20505332656170644], 'ENTROPY': [2.7292768102680194], 'ACC': [0.3819548872180451], 'NMI': [0.28483707793703383]}}"
   ]
  },
  {
   "cell_type": "code",
   "execution_count": null,
   "metadata": {},
   "outputs": [],
   "source": [
    "MNIST_CFC_pre_res3 = {0: {'BALANCE': [0.5209582890633032], 'ENTROPY': [2.5298425392697244], 'ACC': [0.3244360902255639], 'NMI': [0.2307697023525431]}, 1: {'BALANCE': [0.4026199190907339], 'ENTROPY': [2.8130693637965516], 'ACC': [0.362406015037594], 'NMI': [0.242924073789186]}, 2: {'BALANCE': [0.4627786047051091], 'ENTROPY': [2.549512817368422], 'ACC': [0.324812030075188], 'NMI': [0.23044186773509404]}, 3: {'BALANCE': [0.39557236545334673], 'ENTROPY': [2.840691087519578], 'ACC': [0.36428571428571427], 'NMI': [0.26702583424259807]}, 4: {'BALANCE': [0.5344902729902135], 'ENTROPY': [2.560081656139411], 'ACC': [0.3609022556390977], 'NMI': [0.2334466458144873]}, 5: {'BALANCE': [0.42015828677839845], 'ENTROPY': [2.7693047110487745], 'ACC': [0.3868421052631579], 'NMI': [0.2768477368318506]}, 6: {'BALANCE': [0.3177136776498309], 'ENTROPY': [2.6734872573470585], 'ACC': [0.34135338345864663], 'NMI': [0.2235010515351963]}, 7: {'BALANCE': [0.32551210428305394], 'ENTROPY': [2.4807160298557425], 'ACC': [0.34172932330827066], 'NMI': [0.22306647413701014]}, 8: {'BALANCE': [0.49950706539599077], 'ENTROPY': [2.615738847972821], 'ACC': [0.37669172932330824], 'NMI': [0.24495133745626554]}}\n",
    "MNIST_CFC_post_res3 = {0: {'BALANCE': [0.3117552838223229], 'ENTROPY': [2.4641195401843685], 'ACC': [0.381203007518797], 'NMI': [0.2544571949552321]}, 1: {'BALANCE': [0.28577567683712934], 'ENTROPY': [2.7530263087788702], 'ACC': [0.4319548872180451], 'NMI': [0.308479217257191]}, 2: {'BALANCE': [0.3695745595186936], 'ENTROPY': [2.5095214776661283], 'ACC': [0.3868421052631579], 'NMI': [0.28093111436533574]}, 3: {'BALANCE': [0.5495016268140268], 'ENTROPY': [2.904995617987744], 'ACC': [0.36917293233082704], 'NMI': [0.2570274182796566]}, 4: {'BALANCE': [0.4452503835960385], 'ENTROPY': [2.5535492557774324], 'ACC': [0.3966165413533835], 'NMI': [0.27739671519354064]}, 5: {'BALANCE': [0.4471126675746037], 'ENTROPY': [2.551346700119683], 'ACC': [0.3969924812030075], 'NMI': [0.2780170164312012]}, 6: {'BALANCE': [0.28577567683712934], 'ENTROPY': [2.7852431218127585], 'ACC': [0.42218045112781954], 'NMI': [0.29868260924120554]}, 7: {'BALANCE': [0.4533096598790434], 'ENTROPY': [2.5489019245936406], 'ACC': [0.38834586466165416], 'NMI': [0.27830631508437886]}, 8: {'BALANCE': [0.3444448555255466], 'ENTROPY': [2.514000468996417], 'ACC': [0.39473684210526316], 'NMI': [0.27702121335012436]}}"
   ]
  },
  {
   "cell_type": "raw",
   "metadata": {
    "ExecuteTime": {
     "end_time": "2024-01-19T19:32:40.909370Z",
     "start_time": "2024-01-19T19:32:40.890805Z"
    }
   },
   "source": [
    "\n",
    "\n",
    "\n",
    "    pre_res_list = [MNIST_CFC_pre_res1, MNIST_CFC_pre_res2, MNIST_CFC_pre_res3]\n",
    "\n",
    "    # Initialize the combined dictionary with zeros\n",
    "    combined_dict = {i: {'BALANCE': [], 'ENTROPY': [], 'ACC': [], 'NMI': []} for i in range(9)}\n",
    "\n",
    "    # Iterate through the individual dictionaries and update the combined dictionary\n",
    "    for pre_res in pre_res_list:\n",
    "        for key, values in pre_res.items():\n",
    "            for metric, value in values.items():\n",
    "                combined_dict[key][metric].append(value[0])\n",
    "\n",
    "    # Print the combined dictionary\n",
    "    pkl_file_path = 'MNIST_CFC_pre_attack.pkl'\n",
    "\n",
    "    # Load the dictionary from the pickle file\n",
    "    with open(pkl_file_path, 'wb') as pkl_file:\n",
    "        pickle.dump(combined_dict, pkl_file)"
   ]
  },
  {
   "cell_type": "code",
   "execution_count": null,
   "metadata": {
    "ExecuteTime": {
     "end_time": "2024-01-19T19:32:40.921650Z",
     "start_time": "2024-01-19T19:32:40.906270Z"
    }
   },
   "outputs": [],
   "source": []
  },
  {
   "cell_type": "markdown",
   "metadata": {},
   "source": [
    "# For results with pkl format "
   ]
  },
  {
   "cell_type": "code",
   "execution_count": null,
   "metadata": {
    "ExecuteTime": {
     "end_time": "2024-01-19T19:32:40.979902Z",
     "start_time": "2024-01-19T19:32:40.923323Z"
    }
   },
   "outputs": [],
   "source": [
    "def load_all_pkl(directories):\n",
    "    data = {}\n",
    "    for directory in directories:\n",
    "        for subdir in ['FSC', 'SFD', 'KFC/attack_entropy']:\n",
    "            path = os.path.join(directory, subdir)\n",
    "            for filename in os.listdir(path):\n",
    "                if filename.endswith('.pkl'):\n",
    "                    with open(os.path.join(path, filename), 'rb') as f:\n",
    "                        key = f\"{directory}_{subdir}_{filename}\"\n",
    "                        data[key] = pickle.load(f)\n",
    "    return data\n",
    "\n",
    "directories = ['DIGITS', 'MNIST_USPS', 'Office-31', 'Yale']\n",
    "data = load_all_pkl(directories)\n",
    "data[\"DIGITS_FSC_post_attack_res.pkl\"]"
   ]
  },
  {
   "cell_type": "code",
   "execution_count": null,
   "metadata": {
    "ExecuteTime": {
     "end_time": "2024-01-19T19:32:41.063156Z",
     "start_time": "2024-01-19T19:32:40.983064Z"
    }
   },
   "outputs": [],
   "source": [
    "datasets = ['DIGITS', 'MNIST_USPS', 'Office-31', 'Yale']\n",
    "attacks = ['pre_attack', 'post_attack']\n",
    "algorithms = ['FSC', 'SFD', 'KFC/attack_entropy','CFC']\n",
    "\n",
    "new_data = {}\n",
    "for dataset in datasets:\n",
    "    for algorithm in algorithms:\n",
    "        for attack in attacks:\n",
    "            old_key = f\"{dataset}_{algorithm}_{attack}_res.pkl\"\n",
    "            if algorithm == 'KFC/attack_entropy':\n",
    "                new_key = f\"{dataset}_KFC_{attack}\"\n",
    "            else:\n",
    "                new_key = f\"{dataset}_{algorithm}_{attack}\"\n",
    "            if old_key in data:\n",
    "                new_data[new_key] = data[old_key]\n",
    "new_data.keys()"
   ]
  },
  {
   "cell_type": "code",
   "execution_count": null,
   "metadata": {},
   "outputs": [],
   "source": [
    "def post_pre_ratios(data_name):  # data_name i.e. 'DIGITS_FSC'\n",
    "    post_data = new_data[data_name + \"_post_attack\"]\n",
    "    pre_data = new_data[data_name + \"_pre_attack\"]\n",
    "    \n",
    "    ratios = {}\n",
    "    \n",
    "    for key in post_data:\n",
    "    # Initialize the ratio dictionary for the current key\n",
    "        ratios[key] = {}\n",
    "\n",
    "        # Iterate through the inner keys (e.g., 'BALANCE', 'ENTROPY', 'ACC', 'NMI')\n",
    "        for inner_key in post_data[key]:\n",
    "            # Check for zero values before calculating the ratio\n",
    "            ratio_values = [\n",
    "                a / b if b != 0 else 0 for a, b in zip(post_data[key][inner_key], pre_data[key][inner_key])\n",
    "            ]\n",
    "\n",
    "            # Assign the ratio values to the current inner key in the ratios dictionary\n",
    "            ratios[key][inner_key] = ratio_values\n",
    "    \n",
    "    return ratios"
   ]
  },
  {
   "cell_type": "code",
   "execution_count": null,
   "metadata": {},
   "outputs": [],
   "source": []
  },
  {
   "cell_type": "raw",
   "metadata": {},
   "source": [
    "def avg_std_ratios(ratios):\n",
    "\n",
    "    dataset = {}\n",
    "\n",
    "    # Iterate through time points\n",
    "    for time_point in ratios:\n",
    "        # Initialize dictionaries for the current time point\n",
    "        dataset[time_point] = {}\n",
    "\n",
    "        # Iterate through metrics\n",
    "        for metric in ratios[0]:\n",
    "            # Calculate average and standard deviation for each set of three values\n",
    "            metric_values = np.array(ratios[time_point][metric])\n",
    "            avg = np.mean(metric_values)\n",
    "            std = np.std(metric_values)\n",
    "\n",
    "            # Store averages and standard deviations in the dictionary\n",
    "            dataset[time_point][metric] = {'avg': avg, 'std': std}\n",
    "\n",
    "    # Print the result in the specified format\n",
    "    return dataset"
   ]
  },
  {
   "cell_type": "code",
   "execution_count": null,
   "metadata": {},
   "outputs": [],
   "source": [
    "def avg_std_ratios(ratios):\n",
    "\n",
    "    averages_dataset = {}\n",
    "    stddevs_dataset = {}\n",
    "\n",
    "    # Iterate through time points\n",
    "    for time_point in ratios:\n",
    "        # Initialize dictionaries for the current time point\n",
    "        averages_dataset[time_point] = {}\n",
    "        stddevs_dataset[time_point] = {}\n",
    "\n",
    "        # Iterate through metrics\n",
    "        for metric in ratios[0]:\n",
    "            # Calculate average and standard deviation for each set of three values\n",
    "            metric_values = np.array(ratios[time_point][metric])\n",
    "            avg = np.mean(metric_values)\n",
    "            std = np.std(metric_values)\n",
    "\n",
    "            # Store averages and standard deviations in the dictionaries\n",
    "            averages_dataset[time_point][metric] = avg\n",
    "            stddevs_dataset[time_point][metric] = std\n",
    "\n",
    "    # Print the results in the specified format\n",
    "    avg_std = (averages_dataset, stddevs_dataset)\n",
    "    return avg_std"
   ]
  },
  {
   "cell_type": "code",
   "execution_count": null,
   "metadata": {},
   "outputs": [],
   "source": [
    "def "
   ]
  },
  {
   "cell_type": "markdown",
   "metadata": {},
   "source": [
    "# For manual result"
   ]
  },
  {
   "cell_type": "code",
   "execution_count": null,
   "metadata": {
    "ExecuteTime": {
     "end_time": "2024-01-18T13:53:54.380285Z",
     "start_time": "2024-01-18T13:53:54.367286Z"
    },
    "id": "2wWvJGHes2GX"
   },
   "outputs": [],
   "source": [
    "def create_dataset(name):\n",
    "  pre_res1 = name+\"_pre_res1\"\n",
    "  post_res1 = name+\"_post_res1\"\n",
    "  pre_res2 = name+\"_pre_res2\"\n",
    "  post_res2 = name+\"_post_res2\"\n",
    "  pre_res3 = name+\"_pre_res3\"\n",
    "  post_res3 = name+\"_post_res3\"\n",
    "  datasets = [\n",
    "        {'pre-res': globals()[pre_res1], 'post-res': globals()[post_res1]},\n",
    "        {'pre-res': globals()[pre_res2], 'post-res': globals()[post_res2]},\n",
    "        {'pre-res': globals()[pre_res3], 'post-res': globals()[post_res3]},\n",
    "    ]\n",
    "  return datasets"
   ]
  },
  {
   "cell_type": "code",
   "execution_count": null,
   "metadata": {
    "ExecuteTime": {
     "end_time": "2024-01-18T13:53:54.395287Z",
     "start_time": "2024-01-18T13:53:54.385288Z"
    },
    "id": "GkAHjwogwm2_"
   },
   "outputs": [],
   "source": [
    "def calculate_post_pre_ratio_individual(dataset):\n",
    "    # Initialize dictionaries to store ratio results for pre-res and post-res\n",
    "    ratio_results = {i: {'BALANCE': [], 'ENTROPY': [], 'ACC': [], 'NMI': []} for i in range(9)}\n",
    "\n",
    "    pre_res = dataset['pre-res']\n",
    "    post_res = dataset['post-res']\n",
    "\n",
    "    # Iterate through each time point\n",
    "    for time_point in range(9):\n",
    "        # Extract values for each metric from pre-res and post-res\n",
    "        for metric in ratio_results[time_point].keys():\n",
    "            pre_res_values = pre_res.get(time_point, {}).get(metric, [0])\n",
    "            post_res_values = post_res.get(time_point, {}).get(metric, [0])\n",
    "\n",
    "            # Avoid division by zero\n",
    "            if np.mean(pre_res_values) == 0:\n",
    "                avg_ratio = np.nan\n",
    "            else:\n",
    "                # Calculate post/pre ratio for average values\n",
    "                avg_ratio = np.mean(post_res_values) / np.mean(pre_res_values)\n",
    "\n",
    "            # Update the dictionaries with average values\n",
    "            ratio_results[time_point][metric] = avg_ratio\n",
    "\n",
    "    return ratio_results"
   ]
  },
  {
   "cell_type": "code",
   "execution_count": null,
   "metadata": {},
   "outputs": [],
   "source": [
    "# Function to calculate the average and std of post/pre ratio results for multiple datasets\n",
    "def calculate_average_and_std_ratio(results_list):\n",
    "    # Initialize dictionaries to store average and std results\n",
    "    average_results = {i: {'BALANCE': [], 'ENTROPY': [], 'ACC': [], 'NMI': []} for i in range(9)}\n",
    "    std_results = {i: {'BALANCE': [], 'ENTROPY': [], 'ACC': [], 'NMI': []} for i in range(9)}\n",
    "\n",
    "    # Iterate through each time point and metric\n",
    "    for time_point in range(9):\n",
    "        for metric in average_results[time_point].keys():\n",
    "            # Extract ratio values for the current time point and metric from each dataset\n",
    "            ratio_values = [dataset[time_point][metric] for dataset in results_list]\n",
    "\n",
    "            # Calculate the average and std of the ratios, ignoring nan values\n",
    "            avg_ratio = np.nanmean(ratio_values)\n",
    "            std_ratio = np.nanstd(ratio_values)\n",
    "\n",
    "            # Update the dictionaries with average and std values\n",
    "            average_results[time_point][metric] = avg_ratio\n",
    "            std_results[time_point][metric] = std_ratio\n",
    "\n",
    "    return average_results, std_results"
   ]
  },
  {
   "cell_type": "code",
   "execution_count": null,
   "metadata": {
    "id": "9sP1OJIG2EpX"
   },
   "outputs": [],
   "source": [
    "def dataset_result(name):\n",
    "\n",
    "  datasets = create_dataset(name)\n",
    "\n",
    "  ratio_results_dataset_1 = calculate_post_pre_ratio_individual(datasets[0])\n",
    "  ratio_results_dataset_2 = calculate_post_pre_ratio_individual(datasets[1])\n",
    "  ratio_results_dataset_3 = calculate_post_pre_ratio_individual(datasets[2])\n",
    "\n",
    "  # Calculate average and std of post/pre ratio results for the three datasets\n",
    "  average_results, std_results = calculate_average_and_std_ratio([ratio_results_dataset_1, ratio_results_dataset_2, ratio_results_dataset_3])\n",
    "\n",
    "  return average_results, std_results\n"
   ]
  },
  {
   "cell_type": "code",
   "execution_count": null,
   "metadata": {
    "colab": {
     "base_uri": "https://localhost:8080/"
    },
    "id": "2xmVwXy-CL0W",
    "outputId": "bf8b6628-c334-4dfc-c76f-2f934cd7cdf4"
   },
   "outputs": [],
   "source": [
    "dataset_names = [\"Yale_CFC\",\"Office_CFC\"] # should be from different algorithms like \"Yale_CFC\" \"Yale_SFD\" \"Yale_FSC\" etc.\n",
    "\n",
    "# Dictionary to store results\n",
    "result_dict = {}\n",
    "\n",
    "# Loop through dataset names and store results in the dictionary\n",
    "for name in dataset_names:\n",
    "    average_results, std_results = dataset_result(name)\n",
    "    result_dict[name] = (average_results, std_results)"
   ]
  },
  {
   "cell_type": "code",
   "execution_count": null,
   "metadata": {},
   "outputs": [],
   "source": [
    "merged_dict1 = result_dict.copy()\n",
    "merged_dict1.update({\"Yale_FSC\":Yale_FSC})"
   ]
  },
  {
   "cell_type": "code",
   "execution_count": null,
   "metadata": {},
   "outputs": [],
   "source": [
    "merged_dict1"
   ]
  },
  {
   "cell_type": "code",
   "execution_count": null,
   "metadata": {
    "colab": {
     "base_uri": "https://localhost:8080/",
     "height": 307
    },
    "id": "q0-BWK5SCXYA",
    "outputId": "367b68da-2567-4203-cabb-faf833badb7b"
   },
   "outputs": [],
   "source": [
    "#dataset_names = list(result_dict.keys())\n",
    "dataset_names = [\"Yale_CFC\", \"Yale_FSC\"]\n",
    "\n",
    "# Metrics to compare\n",
    "metrics = ['BALANCE', 'ENTROPY', 'ACC', 'NMI']\n",
    "mapping_values = [0, 0.03, 0.075, 0.115, 0.15, 0.19, 0.225, 0.27, 0.3]\n",
    "\n",
    "# Number of subplots\n",
    "num_subplots = len(metrics)\n",
    "\n",
    "# Create subplots dynamically based on the number of metrics\n",
    "fig, axs = plt.subplots(1, 4, figsize=(12, 3))\n",
    "\n",
    "# Iterate through metrics and plot each metric on a subplot\n",
    "for i, metric in enumerate(metrics):\n",
    "    for dataset_name in dataset_names:\n",
    "        metric_values = [result[metric] for result in merged_dict1[dataset_name][0].values()]  # Assuming you want the first set of results\n",
    "        std_values = [result[metric] for result in merged_dict1[dataset_name][1].values()]  # Assuming you want the first set of results\n",
    "        axs[i].plot(mapping_values, metric_values, label=f'{dataset_name}')\n",
    "\n",
    "        # Add shaded area for standard deviation\n",
    "        axs[i].fill_between(mapping_values, np.array(metric_values) - np.array(std_values),\n",
    "                            np.array(metric_values) + np.array(std_values), alpha=0.3)\n",
    "\n",
    "    # Set labels and title for each subplot\n",
    "    axs[i].set_xlabel('Time Points')\n",
    "    axs[i].set_ylabel(metric)\n",
    "    axs[i].set_title(f'{metric} Comparison')\n",
    "\n",
    "    axs[i].legend()\n",
    "\n",
    "plt.tight_layout()\n",
    "plt.show()"
   ]
  },
  {
   "cell_type": "code",
   "execution_count": null,
   "metadata": {
    "id": "pn1vsJDz8XWy"
   },
   "outputs": [],
   "source": []
  }
 ],
 "metadata": {
  "colab": {
   "provenance": []
  },
  "kernelspec": {
   "display_name": "Python 3 (ipykernel)",
   "language": "python",
   "name": "python3"
  },
  "language_info": {
   "codemirror_mode": {
    "name": "ipython",
    "version": 3
   },
   "file_extension": ".py",
   "mimetype": "text/x-python",
   "name": "python",
   "nbconvert_exporter": "python",
   "pygments_lexer": "ipython3",
   "version": "3.9.18"
  }
 },
 "nbformat": 4,
 "nbformat_minor": 1
}
