{
 "cells": [
  {
   "cell_type": "code",
   "execution_count": 1,
   "metadata": {
    "ExecuteTime": {
     "start_time": "2024-01-19T19:31:46.397431Z",
     "end_time": "2024-01-19T19:31:46.421427Z"
    },
    "id": "YtxMT2ffdMPo"
   },
   "outputs": [],
   "source": [
    "import numpy as np\n",
    "import matplotlib.pyplot as plt\n",
    "import os\n",
    "import pickle"
   ]
  },
  {
   "cell_type": "code",
   "execution_count": 2,
   "metadata": {
    "ExecuteTime": {
     "start_time": "2024-01-19T19:31:46.413433Z",
     "end_time": "2024-01-19T19:31:46.425428Z"
    },
    "id": "lR3ueruckBhZ"
   },
   "outputs": [],
   "source": [
    "Yale_CFC_pre_res1 = {0: {'BALANCE': [0.05365079365079365], 'ENTROPY': [6.857550912713844], 'ACC': [0.10946745562130178], 'NMI': [0.16035462514887944]}, 1: {'BALANCE': [0.09988179669030733], 'ENTROPY': [6.0779150529746975], 'ACC': [0.11183431952662722], 'NMI': [0.15192627445792287]}, 2: {'BALANCE': [0.15410334346504562], 'ENTROPY': [5.897180457817447], 'ACC': [0.11183431952662722], 'NMI': [0.15779805680325382]}, 3: {'BALANCE': [0.19976359338061467], 'ENTROPY': [6.166547461771361], 'ACC': [0.1059171597633136], 'NMI': [0.15359944600175188]}, 4: {'BALANCE': [0.18777777777777777], 'ENTROPY': [6.0398304810262635], 'ACC': [0.10887573964497041], 'NMI': [0.1529482483064923]}, 5: {'BALANCE': [0.15022222222222223], 'ENTROPY': [6.166016494942182], 'ACC': [0.11005917159763313], 'NMI': [0.1570944801338286]}, 6: {'BALANCE': [0.08841995116846879], 'ENTROPY': [7.2139927039393], 'ACC': [0.10828402366863905], 'NMI': [0.16713998285044238]}, 7: {'BALANCE': [0.13317572892040977], 'ENTROPY': [5.1537989682011585], 'ACC': [0.10650887573964497], 'NMI': [0.15323776967322478]}, 8: {'BALANCE': [0.07816836262719705], 'ENTROPY': [5.403116064109307], 'ACC': [0.10118343195266272], 'NMI': [0.16360134442027957]}}\n",
    "Yale_CFC_post_res1 = {0: {'BALANCE': [0.28549019607843135], 'ENTROPY': [6.386322142490468], 'ACC': [0.11834319526627218], 'NMI': [0.15836623288903104]}, 1: {'BALANCE': [0.0946778711484594], 'ENTROPY': [4.900895915090255], 'ACC': [0.10473372781065089], 'NMI': [0.1469399300982246]}, 2: {'BALANCE': [0.04598639455782313], 'ENTROPY': [5.688618490423632], 'ACC': [0.09763313609467456], 'NMI': [0.15201979138191551]}, 3: {'BALANCE': [0.03525239883187318], 'ENTROPY': [4.68476412703078], 'ACC': [0.09644970414201183], 'NMI': [0.13753244158112474]}, 4: {'BALANCE': [0], 'ENTROPY': [5.144893029635455], 'ACC': [0.10414201183431952], 'NMI': [0.1515607702612772]}, 5: {'BALANCE': [0.09388888888888888], 'ENTROPY': [5.6610695965341336], 'ACC': [0.10059171597633136], 'NMI': [0.1524865481401003]}, 6: {'BALANCE': [0.11236702127659576], 'ENTROPY': [8.268519096248795], 'ACC': [0.11242603550295859], 'NMI': [0.16863668974511314]}, 7: {'BALANCE': [0.09988179669030733], 'ENTROPY': [5.480047198464658], 'ACC': [0.10532544378698225], 'NMI': [0.1620631845035294]}, 8: {'BALANCE': [0.256838905775076], 'ENTROPY': [7.564316109268739], 'ACC': [0.10710059171597633], 'NMI': [0.16672996469097612]}}"
   ]
  },
  {
   "cell_type": "code",
   "execution_count": 3,
   "metadata": {
    "ExecuteTime": {
     "start_time": "2024-01-19T19:31:46.429428Z",
     "end_time": "2024-01-19T19:31:46.461428Z"
    },
    "id": "tNMJ-9_Bd3Qu"
   },
   "outputs": [],
   "source": [
    "Yale_CFC_pre_res2 = {0: {'BALANCE': [0.14193729003359462], 'ENTROPY': [5.783087663068249], 'ACC': [0.11124260355029586], 'NMI': [0.16428006429466774]}, 1: {'BALANCE': [0.3045045045045045], 'ENTROPY': [6.851386772870851], 'ACC': [0.10710059171597633], 'NMI': [0.16605581555731902]}, 2: {'BALANCE': [0.19976359338061467], 'ENTROPY': [7.6646689560233145], 'ACC': [0.10355029585798817], 'NMI': [0.15584856690124516]}, 3: {'BALANCE': [0], 'ENTROPY': [7.589217079535432], 'ACC': [0.10473372781065089], 'NMI': [0.153695842123835]}, 4: {'BALANCE': [0.14193729003359462], 'ENTROPY': [6.272050424986645], 'ACC': [0.10355029585798817], 'NMI': [0.16538008870213372]}, 5: {'BALANCE': [0.14306878306878307], 'ENTROPY': [5.3908456013404376], 'ACC': [0.09881656804733728], 'NMI': [0.14822877716811333]}, 6: {'BALANCE': [0.23045454545454547], 'ENTROPY': [6.284062109638473], 'ACC': [0.10295857988165681], 'NMI': [0.14793982445650555]}, 7: {'BALANCE': [0.07191489361702129], 'ENTROPY': [5.859170485103067], 'ACC': [0.10473372781065089], 'NMI': [0.15330859596874263]}, 8: {'BALANCE': [0.17978723404255323], 'ENTROPY': [7.206701895373406], 'ACC': [0.11242603550295859], 'NMI': [0.16144654911836614]}}\n",
    "Yale_CFC_post_res2 = {0: {'BALANCE': [0.2397163120567376], 'ENTROPY': [8.057260316540535], 'ACC': [0.1076923076923077], 'NMI': [0.17056847760603724]}, 1: {'BALANCE': [0.37555555555555553], 'ENTROPY': [7.719503822974664], 'ACC': [0.10946745562130178], 'NMI': [0.16962624222393113]}, 2: {'BALANCE': [0.08989361702127661], 'ENTROPY': [6.356698826806172], 'ACC': [0.09644970414201183], 'NMI': [0.1530106112331994]}, 3: {'BALANCE': [0], 'ENTROPY': [5.700703199166011], 'ACC': [0.09822485207100591], 'NMI': [0.14789896820002002]}, 4: {'BALANCE': [0.09797101449275362], 'ENTROPY': [5.509898314456925], 'ACC': [0.1], 'NMI': [0.14672396162184628]}, 5: {'BALANCE': [0.04731243001119821], 'ENTROPY': [5.696477364661662], 'ACC': [0.10473372781065089], 'NMI': [0.14709659686783874]}, 6: {'BALANCE': [0.09988179669030733], 'ENTROPY': [5.524439999741704], 'ACC': [0.10295857988165681], 'NMI': [0.14282255843338562]}, 7: {'BALANCE': [0], 'ENTROPY': [4.7348054970226725], 'ACC': [0.1], 'NMI': [0.14082872364960777]}, 8: {'BALANCE': [0.20430367504835592], 'ENTROPY': [6.277001446558568], 'ACC': [0.11479289940828402], 'NMI': [0.16977464294431754]}}"
   ]
  },
  {
   "cell_type": "code",
   "execution_count": 4,
   "metadata": {
    "ExecuteTime": {
     "start_time": "2024-01-19T19:31:46.457429Z",
     "end_time": "2024-01-19T19:31:46.485434Z"
    },
    "id": "FP3MnxnzeDDb"
   },
   "outputs": [],
   "source": [
    "Yale_CFC_pre_res3 = {0: {'BALANCE': [0.22951561792666364], 'ENTROPY': [7.369925472320404], 'ACC': [0.10295857988165681], 'NMI': [0.16166956895657889]}, 1: {'BALANCE': [0.16899999999999998], 'ENTROPY': [6.158586229327698], 'ACC': [0.10414201183431952], 'NMI': [0.15070615556364353]}, 2: {'BALANCE': [0.4894535519125683], 'ENTROPY': [7.319679408310704], 'ACC': [0.11420118343195267], 'NMI': [0.1561936013109697]}, 3: {'BALANCE': [0], 'ENTROPY': [7.921756017962838], 'ACC': [0.12011834319526628], 'NMI': [0.17259717577123987]}, 4: {'BALANCE': [0.4096969696969697], 'ENTROPY': [7.743256139383837], 'ACC': [0.10650887573964497], 'NMI': [0.1611500443094077]}, 5: {'BALANCE': [0.14382978723404258], 'ENTROPY': [5.5238273804837625], 'ACC': [0.11005917159763313], 'NMI': [0.15075126505550887]}, 6: {'BALANCE': [0.128419452887538], 'ENTROPY': [7.59803613095662], 'ACC': [0.12781065088757396], 'NMI': [0.19646253008832984]}, 7: {'BALANCE': [0.09462486002239642], 'ENTROPY': [6.02104167851466], 'ACC': [0.1076923076923077], 'NMI': [0.16308601267418618]}, 8: {'BALANCE': [0.22533333333333336], 'ENTROPY': [6.779656832629214], 'ACC': [0.11420118343195267], 'NMI': [0.17029228186596154]}}\n",
    "Yale_CFC_post_res3 = {0: {'BALANCE': [0.1073015873015873], 'ENTROPY': [6.13022850616988], 'ACC': [0.11183431952662722], 'NMI': [0.1646768091237931]}, 1: {'BALANCE': [0], 'ENTROPY': [5.848430798700245], 'ACC': [0.10414201183431952], 'NMI': [0.13901308689082523]}, 2: {'BALANCE': [0.051212121212121216], 'ENTROPY': [5.6344214428970965], 'ACC': [0.10295857988165681], 'NMI': [0.14344173783421346]}, 3: {'BALANCE': [0], 'ENTROPY': [5.284278581484639], 'ACC': [0.09881656804733728], 'NMI': [0.16069511300049116]}, 4: {'BALANCE': [0.04609929078014185], 'ENTROPY': [5.596189431914012], 'ACC': [0.10295857988165681], 'NMI': [0.1440855313859088]}, 5: {'BALANCE': [0.12876190476190477], 'ENTROPY': [7.286135452634222], 'ACC': [0.10887573964497041], 'NMI': [0.16054221700628352]}, 6: {'BALANCE': [0.3508043591074209], 'ENTROPY': [7.663225473817781], 'ACC': [0.11597633136094675], 'NMI': [0.17019229801486666]}, 7: {'BALANCE': [0.15863579474342931], 'ENTROPY': [5.78940513459335], 'ACC': [0.1059171597633136], 'NMI': [0.16021476217934977]}, 8: {'BALANCE': [0.09013333333333334], 'ENTROPY': [6.297900706073838], 'ACC': [0.10355029585798817], 'NMI': [0.15145258455717692]}}"
   ]
  },
  {
   "cell_type": "code",
   "execution_count": 5,
   "metadata": {
    "ExecuteTime": {
     "start_time": "2024-01-19T19:31:46.473429Z",
     "end_time": "2024-01-19T19:31:46.485434Z"
    },
    "id": "az0Lz6zY0vvp"
   },
   "outputs": [],
   "source": [
    "Office_CFC_pre_res1 = {0: {'BALANCE': [0.4301552106430155], 'ENTROPY': [5.827177711072734], 'ACC': [0.48711340206185566], 'NMI': [0.680259392866343]}, 1: {'BALANCE': [0.6320647993121861], 'ENTROPY': [6.191650418845674], 'ACC': [0.5412371134020618], 'NMI': [0.7190293278268413]}, 2: {'BALANCE': [0.6918875797741777], 'ENTROPY': [6.584970541354412], 'ACC': [0.5352233676975945], 'NMI': [0.7074233535128316]}, 3: {'BALANCE': [0.719275925993239], 'ENTROPY': [5.91208395371477], 'ACC': [0.49140893470790376], 'NMI': [0.6872994710894311]}, 4: {'BALANCE': [0.6194235033259423], 'ENTROPY': [5.572249636453801], 'ACC': [0.47594501718213056], 'NMI': [0.6665876498930805]}, 5: {'BALANCE': [0.6194235033259423], 'ENTROPY': [5.8431683858812455], 'ACC': [0.5266323024054983], 'NMI': [0.7121559294350279]}, 6: {'BALANCE': [0.6780498281786942], 'ENTROPY': [6.202401299873795], 'ACC': [0.552405498281787], 'NMI': [0.7129894226459342]}, 7: {'BALANCE': [0.6924449732302201], 'ENTROPY': [5.869851170977579], 'ACC': [0.49828178694158076], 'NMI': [0.6816192981078564]}, 8: {'BALANCE': [0.5665458871883619], 'ENTROPY': [6.164714031437032], 'ACC': [0.5146048109965635], 'NMI': [0.6961705302665788]}}\n",
    "Office_CFC_post_res1 =  {0: {'BALANCE': [0.5923448802297263], 'ENTROPY': [5.859519951856571], 'ACC': [0.4802405498281787], 'NMI': [0.6718512745329295]}, 1: {'BALANCE': [0.5339857787292607], 'ENTROPY': [5.904491268502479], 'ACC': [0.4948453608247423], 'NMI': [0.6767595441545085]}, 2: {'BALANCE': [0.7169253510716925], 'ENTROPY': [6.207399842857969], 'ACC': [0.5283505154639175], 'NMI': [0.7030668742416136]}, 3: {'BALANCE': [0.6072779444371984], 'ENTROPY': [5.752081710742113], 'ACC': [0.47594501718213056], 'NMI': [0.684698049422903]}, 4: {'BALANCE': [0.7180034343063868], 'ENTROPY': [5.9479172989878375], 'ACC': [0.46735395189003437], 'NMI': [0.6639066484315777]}, 5: {'BALANCE': [0.6320647993121861], 'ENTROPY': [5.516413771336705], 'ACC': [0.48195876288659795], 'NMI': [0.6908614817967732]}, 6: {'BALANCE': [0.6320647993121861], 'ENTROPY': [5.84887777686426], 'ACC': [0.520618556701031], 'NMI': [0.7072636355543348]}, 7: {'BALANCE': [0.5936503888818054], 'ENTROPY': [5.829749260317657], 'ACC': [0.5180412371134021], 'NMI': [0.7066543967569338]}, 8: {'BALANCE': [0.5161862527716187], 'ENTROPY': [6.179367936294099], 'ACC': [0.5163230240549829], 'NMI': [0.6951862689470163]}}"
   ]
  },
  {
   "cell_type": "code",
   "execution_count": 6,
   "metadata": {
    "ExecuteTime": {
     "start_time": "2024-01-19T19:31:46.489433Z",
     "end_time": "2024-01-19T19:31:46.513597Z"
    },
    "id": "LEaBHB7P05Tg"
   },
   "outputs": [],
   "source": [
    "Office_CFC_pre_res2= {0: {'BALANCE': [0.6194235033259423], 'ENTROPY': [5.81993443480428], 'ACC': [0.49140893470790376], 'NMI': [0.6865515417891584]}, 1: {'BALANCE': [0.5459662288930581], 'ENTROPY': [6.181044164813665], 'ACC': [0.48281786941580757], 'NMI': [0.6717183410757198]}, 2: {'BALANCE': [0.6194235033259423], 'ENTROPY': [5.867943058532997], 'ACC': [0.4991408934707904], 'NMI': [0.6841424557231274]}, 3: {'BALANCE': [0.49953508332737284], 'ENTROPY': [6.078608979101168], 'ACC': [0.5008591065292096], 'NMI': [0.6956559381309976]}, 4: {'BALANCE': [0.5865752872404757], 'ENTROPY': [6.19777890992577], 'ACC': [0.4879725085910653], 'NMI': [0.6802251922134358]}, 5: {'BALANCE': [0.5060649536976652], 'ENTROPY': [6.164923002302593], 'ACC': [0.4725085910652921], 'NMI': [0.6643291504706472]}, 6: {'BALANCE': [0.7084909351767315], 'ENTROPY': [5.952234844084407], 'ACC': [0.4957044673539519], 'NMI': [0.6743232935317813]}, 7: {'BALANCE': [0.6194235033259423], 'ENTROPY': [6.181807904000105], 'ACC': [0.48195876288659795], 'NMI': [0.6862886840959793]}, 8: {'BALANCE': [0.6674822234115758], 'ENTROPY': [6.235042511769408], 'ACC': [0.5], 'NMI': [0.6733315534474948]}}\n",
    "Office_CFC_post_res2 = {0: {'BALANCE': [0.6213353042621335], 'ENTROPY': [5.5096678365532465], 'ACC': [0.44673539518900346], 'NMI': [0.6499656723026613]}, 1: {'BALANCE': [0.5249351723101207], 'ENTROPY': [6.1581003389996125], 'ACC': [0.5249140893470791], 'NMI': [0.710271956043499]}, 2: {'BALANCE': [0.5267206660934884], 'ENTROPY': [5.5177004465847865], 'ACC': [0.4570446735395189], 'NMI': [0.668364855504131]}, 3: {'BALANCE': [0.6959814644111711], 'ENTROPY': [6.206351874102743], 'ACC': [0.5085910652920962], 'NMI': [0.6900149243763144]}, 4: {'BALANCE': [0.6538359201773837], 'ENTROPY': [6.254371579773686], 'ACC': [0.5378006872852233], 'NMI': [0.7236795404612643]}, 5: {'BALANCE': [0.6339129420002333], 'ENTROPY': [6.542046544678584], 'ACC': [0.5257731958762887], 'NMI': [0.699454397580911]}, 6: {'BALANCE': [0.6010387874738025], 'ENTROPY': [6.162540873105038], 'ACC': [0.5378006872852233], 'NMI': [0.7027754733129997]}, 7: {'BALANCE': [0.629495430209291], 'ENTROPY': [6.233889294757578], 'ACC': [0.5532646048109966], 'NMI': [0.7109387958727491]}, 8: {'BALANCE': [0.6320647993121861], 'ENTROPY': [6.211084439827166], 'ACC': [0.4484536082474227], 'NMI': [0.6655706783726955]}}"
   ]
  },
  {
   "cell_type": "code",
   "execution_count": 7,
   "metadata": {
    "ExecuteTime": {
     "start_time": "2024-01-19T19:31:46.505595Z",
     "end_time": "2024-01-19T19:31:46.525596Z"
    },
    "id": "-nEdBehS1Ar8"
   },
   "outputs": [],
   "source": [
    "Office_CFC_pre_res3 = {0: {'BALANCE': [0.4301552106430155], 'ENTROPY': [5.827177711072734], 'ACC': [0.48711340206185566], 'NMI': [0.680259392866343]}, 1: {'BALANCE': [0.6320647993121861], 'ENTROPY': [6.191650418845674], 'ACC': [0.5412371134020618], 'NMI': [0.7190293278268413]}, 2: {'BALANCE': [0.6918875797741777], 'ENTROPY': [6.584970541354412], 'ACC': [0.5352233676975945], 'NMI': [0.7074233535128316]}, 3: {'BALANCE': [0.719275925993239], 'ENTROPY': [5.91208395371477], 'ACC': [0.49140893470790376], 'NMI': [0.6872994710894311]}, 4: {'BALANCE': [0.6194235033259423], 'ENTROPY': [5.572249636453801], 'ACC': [0.47594501718213056], 'NMI': [0.6665876498930805]}, 5: {'BALANCE': [0.6194235033259423], 'ENTROPY': [5.8431683858812455], 'ACC': [0.5266323024054983], 'NMI': [0.7121559294350279]}, 6: {'BALANCE': [0.6780498281786942], 'ENTROPY': [6.202401299873795], 'ACC': [0.552405498281787], 'NMI': [0.7129894226459342]}, 7: {'BALANCE': [0.6924449732302201], 'ENTROPY': [5.869851170977579], 'ACC': [0.49828178694158076], 'NMI': [0.6816192981078564]}, 8: {'BALANCE': [0.5665458871883619], 'ENTROPY': [6.164714031437032], 'ACC': [0.5146048109965635], 'NMI': [0.6961705302665788]}}\n",
    "Office_CFC_post_res3 =  {0: {'BALANCE': [0.5923448802297263], 'ENTROPY': [5.859519951856571], 'ACC': [0.4802405498281787], 'NMI': [0.6718512745329295]}, 1: {'BALANCE': [0.5339857787292607], 'ENTROPY': [5.904491268502479], 'ACC': [0.4948453608247423], 'NMI': [0.6767595441545085]}, 2: {'BALANCE': [0.7169253510716925], 'ENTROPY': [6.207399842857969], 'ACC': [0.5283505154639175], 'NMI': [0.7030668742416136]}, 3: {'BALANCE': [0.6072779444371984], 'ENTROPY': [5.752081710742113], 'ACC': [0.47594501718213056], 'NMI': [0.684698049422903]}, 4: {'BALANCE': [0.7180034343063868], 'ENTROPY': [5.9479172989878375], 'ACC': [0.46735395189003437], 'NMI': [0.6639066484315777]}, 5: {'BALANCE': [0.6320647993121861], 'ENTROPY': [5.516413771336705], 'ACC': [0.48195876288659795], 'NMI': [0.6908614817967732]}, 6: {'BALANCE': [0.6320647993121861], 'ENTROPY': [5.84887777686426], 'ACC': [0.520618556701031], 'NMI': [0.7072636355543348]}, 7: {'BALANCE': [0.5936503888818054], 'ENTROPY': [5.829749260317657], 'ACC': [0.5180412371134021], 'NMI': [0.7066543967569338]}, 8: {'BALANCE': [0.5161862527716187], 'ENTROPY': [6.179367936294099], 'ACC': [0.5163230240549829], 'NMI': [0.6951862689470163]}}"
   ]
  },
  {
   "cell_type": "code",
   "execution_count": 8,
   "metadata": {},
   "outputs": [
    {
     "ename": "FileNotFoundError",
     "evalue": "[WinError 3] 系统找不到指定的路径。: 'DIGITS\\\\FSC'",
     "output_type": "error",
     "traceback": [
      "\u001B[1;31m---------------------------------------------------------------------------\u001B[0m",
      "\u001B[1;31mFileNotFoundError\u001B[0m                         Traceback (most recent call last)",
      "Cell \u001B[1;32mIn[8], line 14\u001B[0m\n\u001B[0;32m     11\u001B[0m     \u001B[38;5;28;01mreturn\u001B[39;00m data\n\u001B[0;32m     13\u001B[0m directories \u001B[38;5;241m=\u001B[39m [\u001B[38;5;124m'\u001B[39m\u001B[38;5;124mDIGITS\u001B[39m\u001B[38;5;124m'\u001B[39m, \u001B[38;5;124m'\u001B[39m\u001B[38;5;124mMNIST_USPS\u001B[39m\u001B[38;5;124m'\u001B[39m, \u001B[38;5;124m'\u001B[39m\u001B[38;5;124mOffice-31\u001B[39m\u001B[38;5;124m'\u001B[39m, \u001B[38;5;124m'\u001B[39m\u001B[38;5;124mYale\u001B[39m\u001B[38;5;124m'\u001B[39m]\n\u001B[1;32m---> 14\u001B[0m data \u001B[38;5;241m=\u001B[39m \u001B[43mload_all_pkl\u001B[49m\u001B[43m(\u001B[49m\u001B[43mdirectories\u001B[49m\u001B[43m)\u001B[49m\n\u001B[0;32m     15\u001B[0m data[\u001B[38;5;124m\"\u001B[39m\u001B[38;5;124mDIGITS_FSC_post_attack_res.pkl\u001B[39m\u001B[38;5;124m\"\u001B[39m]\n",
      "Cell \u001B[1;32mIn[8], line 6\u001B[0m, in \u001B[0;36mload_all_pkl\u001B[1;34m(directories)\u001B[0m\n\u001B[0;32m      4\u001B[0m \u001B[38;5;28;01mfor\u001B[39;00m subdir \u001B[38;5;129;01min\u001B[39;00m [\u001B[38;5;124m'\u001B[39m\u001B[38;5;124mFSC\u001B[39m\u001B[38;5;124m'\u001B[39m, \u001B[38;5;124m'\u001B[39m\u001B[38;5;124mSFD\u001B[39m\u001B[38;5;124m'\u001B[39m, \u001B[38;5;124m'\u001B[39m\u001B[38;5;124mKFC/attack_entropy\u001B[39m\u001B[38;5;124m'\u001B[39m]:\n\u001B[0;32m      5\u001B[0m     path \u001B[38;5;241m=\u001B[39m os\u001B[38;5;241m.\u001B[39mpath\u001B[38;5;241m.\u001B[39mjoin(directory, subdir)\n\u001B[1;32m----> 6\u001B[0m     \u001B[38;5;28;01mfor\u001B[39;00m filename \u001B[38;5;129;01min\u001B[39;00m \u001B[43mos\u001B[49m\u001B[38;5;241;43m.\u001B[39;49m\u001B[43mlistdir\u001B[49m\u001B[43m(\u001B[49m\u001B[43mpath\u001B[49m\u001B[43m)\u001B[49m:\n\u001B[0;32m      7\u001B[0m         \u001B[38;5;28;01mif\u001B[39;00m filename\u001B[38;5;241m.\u001B[39mendswith(\u001B[38;5;124m'\u001B[39m\u001B[38;5;124m.pkl\u001B[39m\u001B[38;5;124m'\u001B[39m):\n\u001B[0;32m      8\u001B[0m             \u001B[38;5;28;01mwith\u001B[39;00m \u001B[38;5;28mopen\u001B[39m(os\u001B[38;5;241m.\u001B[39mpath\u001B[38;5;241m.\u001B[39mjoin(path, filename), \u001B[38;5;124m'\u001B[39m\u001B[38;5;124mrb\u001B[39m\u001B[38;5;124m'\u001B[39m) \u001B[38;5;28;01mas\u001B[39;00m f:\n",
      "\u001B[1;31mFileNotFoundError\u001B[0m: [WinError 3] 系统找不到指定的路径。: 'DIGITS\\\\FSC'"
     ]
    }
   ],
   "source": [
    "def load_all_pkl(directories):\n",
    "    data = {}\n",
    "    for directory in directories:\n",
    "        for subdir in ['FSC', 'SFD', 'KFC/attack_entropy']:\n",
    "            path = os.path.join(directory, subdir)\n",
    "            for filename in os.listdir(path):\n",
    "                if filename.endswith('.pkl'):\n",
    "                    with open(os.path.join(path, filename), 'rb') as f:\n",
    "                        key = f\"{directory}_{subdir}_{filename}\"\n",
    "                        data[key] = pickle.load(f)\n",
    "    return data\n",
    "\n",
    "directories = ['DIGITS', 'MNIST_USPS', 'Office-31', 'Yale']\n",
    "data = load_all_pkl(directories)\n",
    "data[\"DIGITS_FSC_post_attack_res.pkl\"]"
   ]
  },
  {
   "cell_type": "code",
   "execution_count": null,
   "metadata": {
    "ExecuteTime": {
     "end_time": "2024-01-18T13:53:54.380285Z",
     "start_time": "2024-01-18T13:53:54.367286Z"
    },
    "id": "2wWvJGHes2GX"
   },
   "outputs": [],
   "source": [
    "def create_dataset(name):\n",
    "  pre_res1 = name+\"_pre_res1\"\n",
    "  post_res1 = name+\"_post_res1\"\n",
    "  pre_res2 = name+\"_pre_res2\"\n",
    "  post_res2 = name+\"_post_res2\"\n",
    "  pre_res3 = name+\"_pre_res3\"\n",
    "  post_res3 = name+\"_post_res3\"\n",
    "  datasets = [\n",
    "        {'pre-res': globals()[pre_res1], 'post-res': globals()[post_res1]},\n",
    "        {'pre-res': globals()[pre_res2], 'post-res': globals()[post_res2]},\n",
    "        {'pre-res': globals()[pre_res3], 'post-res': globals()[post_res3]},\n",
    "    ]\n",
    "  return datasets"
   ]
  },
  {
   "cell_type": "code",
   "execution_count": null,
   "metadata": {
    "ExecuteTime": {
     "end_time": "2024-01-18T13:53:54.395287Z",
     "start_time": "2024-01-18T13:53:54.385288Z"
    },
    "id": "GkAHjwogwm2_"
   },
   "outputs": [],
   "source": [
    "def calculate_post_pre_ratio_individual(dataset):\n",
    "    # Initialize dictionaries to store ratio results for pre-res and post-res\n",
    "    ratio_results = {i: {'BALANCE': [], 'ENTROPY': [], 'ACC': [], 'NMI': []} for i in range(9)}\n",
    "\n",
    "    pre_res = dataset['pre-res']\n",
    "    post_res = dataset['post-res']\n",
    "\n",
    "    # Iterate through each time point\n",
    "    for time_point in range(9):\n",
    "        # Extract values for each metric from pre-res and post-res\n",
    "        for metric in ratio_results[time_point].keys():\n",
    "            pre_res_values = pre_res.get(time_point, {}).get(metric, [0])\n",
    "            post_res_values = post_res.get(time_point, {}).get(metric, [0])\n",
    "\n",
    "            # Avoid division by zero\n",
    "            if np.mean(pre_res_values) == 0:\n",
    "                avg_ratio = np.nan\n",
    "            else:\n",
    "                # Calculate post/pre ratio for average values\n",
    "                avg_ratio = np.mean(post_res_values) / np.mean(pre_res_values)\n",
    "\n",
    "            # Update the dictionaries with average values\n",
    "            ratio_results[time_point][metric] = avg_ratio\n",
    "\n",
    "    return ratio_results\n",
    "\n",
    "# Function to calculate the average and std of post/pre ratio results for multiple datasets\n",
    "def calculate_average_and_std_ratio(results_list):\n",
    "    # Initialize dictionaries to store average and std results\n",
    "    average_results = {i: {'BALANCE': [], 'ENTROPY': [], 'ACC': [], 'NMI': []} for i in range(9)}\n",
    "    std_results = {i: {'BALANCE': [], 'ENTROPY': [], 'ACC': [], 'NMI': []} for i in range(9)}\n",
    "\n",
    "    # Iterate through each time point and metric\n",
    "    for time_point in range(9):\n",
    "        for metric in average_results[time_point].keys():\n",
    "            # Extract ratio values for the current time point and metric from each dataset\n",
    "            ratio_values = [dataset[time_point][metric] for dataset in results_list]\n",
    "\n",
    "            # Calculate the average and std of the ratios, ignoring nan values\n",
    "            avg_ratio = np.nanmean(ratio_values)\n",
    "            std_ratio = np.nanstd(ratio_values)\n",
    "\n",
    "            # Update the dictionaries with average and std values\n",
    "            average_results[time_point][metric] = avg_ratio\n",
    "            std_results[time_point][metric] = std_ratio\n",
    "\n",
    "    return average_results, std_results"
   ]
  },
  {
   "cell_type": "code",
   "execution_count": null,
   "metadata": {
    "id": "9sP1OJIG2EpX"
   },
   "outputs": [],
   "source": [
    "def dataset_result(name):\n",
    "\n",
    "  datasets = create_dataset(name)\n",
    "\n",
    "  ratio_results_dataset_1 = calculate_post_pre_ratio_individual(datasets[0])\n",
    "  ratio_results_dataset_2 = calculate_post_pre_ratio_individual(datasets[1])\n",
    "  ratio_results_dataset_3 = calculate_post_pre_ratio_individual(datasets[2])\n",
    "\n",
    "  # Calculate average and std of post/pre ratio results for the three datasets\n",
    "  average_results, std_results = calculate_average_and_std_ratio([ratio_results_dataset_1, ratio_results_dataset_2, ratio_results_dataset_3])\n",
    "\n",
    "  return average_results, std_results\n"
   ]
  },
  {
   "cell_type": "code",
   "execution_count": null,
   "metadata": {
    "colab": {
     "base_uri": "https://localhost:8080/"
    },
    "id": "2xmVwXy-CL0W",
    "outputId": "bf8b6628-c334-4dfc-c76f-2f934cd7cdf4"
   },
   "outputs": [],
   "source": [
    "dataset_names = [\"Yale_CFC\",\"Office_CFC\"] # should be from different algorithms like \"Yale_CFC\" \"Yale_SFD\" \"Yale_FSC\" etc.\n",
    "\n",
    "# Dictionary to store results\n",
    "result_dict = {}\n",
    "\n",
    "# Loop through dataset names and store results in the dictionary\n",
    "for name in dataset_names:\n",
    "    average_results, std_results = dataset_result(name)\n",
    "    result_dict[name] = (average_results, std_results)"
   ]
  },
  {
   "cell_type": "code",
   "execution_count": null,
   "metadata": {
    "colab": {
     "base_uri": "https://localhost:8080/",
     "height": 307
    },
    "id": "q0-BWK5SCXYA",
    "outputId": "367b68da-2567-4203-cabb-faf833badb7b"
   },
   "outputs": [],
   "source": [
    "dataset_names = list(result_dict.keys())\n",
    "\n",
    "# Metrics to compare\n",
    "metrics = ['BALANCE', 'ENTROPY', 'ACC', 'NMI']\n",
    "mapping_values = [0, 0.03, 0.075, 0.115, 0.15, 0.19, 0.225, 0.27, 0.3]\n",
    "\n",
    "# Number of subplots\n",
    "num_subplots = len(metrics)\n",
    "\n",
    "# Create subplots dynamically based on the number of metrics\n",
    "fig, axs = plt.subplots(1, 4, figsize=(12, 3))\n",
    "\n",
    "# Iterate through metrics and plot each metric on a subplot\n",
    "for i, metric in enumerate(metrics):\n",
    "    for dataset_name in dataset_names:\n",
    "        metric_values = [result[metric] for result in result_dict[dataset_name][0].values()]  # Assuming you want the first set of results\n",
    "        std_values = [result[metric] for result in result_dict[dataset_name][1].values()]  # Assuming you want the first set of results\n",
    "        axs[i].plot(mapping_values, metric_values, label=f'{dataset_name}')\n",
    "\n",
    "        # Add shaded area for standard deviation\n",
    "        axs[i].fill_between(mapping_values, np.array(metric_values) - np.array(std_values),\n",
    "                            np.array(metric_values) + np.array(std_values), alpha=0.3)\n",
    "\n",
    "    # Set labels and title for each subplot\n",
    "    axs[i].set_xlabel('Time Points')\n",
    "    axs[i].set_ylabel(metric)\n",
    "    axs[i].set_title(f'{metric} Comparison')\n",
    "\n",
    "    # Add legend\n",
    "    axs[i].legend()\n",
    "\n",
    "# Adjust layout to prevent overlapping\n",
    "plt.tight_layout()\n",
    "\n",
    "# Display the plot\n",
    "plt.show()"
   ]
  },
  {
   "cell_type": "code",
   "execution_count": null,
   "metadata": {
    "id": "pn1vsJDz8XWy"
   },
   "outputs": [],
   "source": []
  }
 ],
 "metadata": {
  "colab": {
   "provenance": []
  },
  "kernelspec": {
   "display_name": "Python 3 (ipykernel)",
   "language": "python",
   "name": "python3"
  },
  "language_info": {
   "codemirror_mode": {
    "name": "ipython",
    "version": 3
   },
   "file_extension": ".py",
   "mimetype": "text/x-python",
   "name": "python",
   "nbconvert_exporter": "python",
   "pygments_lexer": "ipython3",
   "version": "3.9.18"
  }
 },
 "nbformat": 4,
 "nbformat_minor": 1
}
