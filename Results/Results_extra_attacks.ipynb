{
 "cells": [
  {
   "cell_type": "code",
   "execution_count": 1,
   "metadata": {},
   "outputs": [],
   "source": [
    "import numpy as np\n",
    "import pickle\n"
   ]
  },
  {
   "cell_type": "code",
   "execution_count": 9,
   "metadata": {},
   "outputs": [],
   "source": [
    "def print_results(result_dict, result_name, name, cl_algo):\n",
    "    \"\"\"Prints the results of the benchmarking.\"\"\"\n",
    "    print(\"\")\n",
    "    print(f'{result_name} Results for {name} and {cl_algo}')\n",
    "    print(\"=========================================\")\n",
    "    for metric in result_dict.keys():\n",
    "        if \"N/A\" in result_dict[metric]:\n",
    "            print(f'{metric}: {result_dict[metric]}')\n",
    "            continue\n",
    "        mean_val = np.mean(result_dict[metric])\n",
    "        std_val = np.std(result_dict[metric])\n",
    "        print(f'{metric}: Mean = {np.round(mean_val,3)}, Std = {np.round(std_val,3)}')"
   ]
  },
  {
   "cell_type": "code",
   "execution_count": 15,
   "metadata": {},
   "outputs": [],
   "source": [
    "attack_balance = \"Fair-Clustering-Codebase/extra_metrics_results/attack_balance_3seeds/Office-31/SFD/\"\n",
    "attack_min_cluster_ratio = \"Fair-Clustering-Codebase/extra_metrics_results/attack_mcr_3seeds/Office-31/SFD/\"\n",
    "combined_attack_grid = \"Fair-Clustering-Codebase/extra_metrics_results/best_config/Office-31/SFD/\"\n",
    "\n",
    "\n",
    "post_attack_balance = pickle.load(open(attack_balance + \"post_attack_res.pkl\", \"rb\"))\n",
    "post_attack_min_cluster_ratio = pickle.load(open(attack_min_cluster_ratio + \"post_attack_res.pkl\", \"rb\"))\n",
    "post_attack_grid = pickle.load(open(combined_attack_grid + \"post_attack_res.pkl\", \"rb\"))"
   ]
  },
  {
   "cell_type": "code",
   "execution_count": 16,
   "metadata": {},
   "outputs": [
    {
     "name": "stdout",
     "output_type": "stream",
     "text": [
      "\n",
      "Attack balance results:\n",
      "\n",
      "Post-Attack Results for Office-31 and SFD\n",
      "=========================================\n",
      "BALANCE: Mean = 0.149, Std = 0.004\n",
      "MIN_CLUSTER_RATIO: Mean = 0.061, Std = 0.002\n",
      "CLUSTER_DIST_L1: Mean = 0.178, Std = 0.007\n",
      "CLUSTER_DIST_KL: Mean = 0.099, Std = 0.009\n",
      "SILHOUETTE_DIFF: Mean = -0.009, Std = 0.001\n",
      "ENTROPY: Mean = 9.764, Std = 0.037\n",
      "ENTROPY_GROUP_A: Mean = 3.291, Std = 0.016\n",
      "ENTROPY_GROUP_B: Mean = 3.357, Std = 0.01\n",
      "ACC: Mean = 0.757, Std = 0.026\n",
      "NMI: Mean = 0.857, Std = 0.009\n",
      "ARI: Mean = 0.677, Std = 0.021\n",
      "SIL: Mean = 0.153, Std = 0.006\n",
      "\n",
      "Post attack min cluster ratio results:\n",
      "\n",
      "Post-Attack Results for Office-31 and SFD\n",
      "=========================================\n",
      "BALANCE: Mean = 0.149, Std = 0.004\n",
      "MIN_CLUSTER_RATIO: Mean = 0.061, Std = 0.002\n",
      "CLUSTER_DIST_L1: Mean = 0.178, Std = 0.007\n",
      "CLUSTER_DIST_KL: Mean = 0.099, Std = 0.009\n",
      "SILHOUETTE_DIFF: Mean = -0.009, Std = 0.001\n",
      "ENTROPY: Mean = 9.764, Std = 0.037\n",
      "ENTROPY_GROUP_A: Mean = 3.291, Std = 0.016\n",
      "ENTROPY_GROUP_B: Mean = 3.357, Std = 0.01\n",
      "ACC: Mean = 0.757, Std = 0.026\n",
      "NMI: Mean = 0.857, Std = 0.009\n",
      "ARI: Mean = 0.677, Std = 0.021\n",
      "SIL: Mean = 0.153, Std = 0.006\n",
      "\n",
      "Combined attack grid results:\n",
      "\n",
      "Post-Attack Results for Office-31 and SFD\n",
      "=========================================\n",
      "BALANCE: Mean = 0.144, Std = 0.011\n",
      "MIN_CLUSTER_RATIO: Mean = 0.059, Std = 0.005\n",
      "CLUSTER_DIST_L1: Mean = 0.183, Std = 0.002\n",
      "CLUSTER_DIST_KL: Mean = 0.104, Std = 0.006\n",
      "SILHOUETTE_DIFF: Mean = -0.005, Std = 0.002\n",
      "ENTROPY: Mean = 9.715, Std = 0.089\n",
      "ENTROPY_GROUP_A: Mean = 3.287, Std = 0.035\n",
      "ENTROPY_GROUP_B: Mean = 3.36, Std = 0.009\n",
      "ACC: Mean = 0.753, Std = 0.016\n",
      "NMI: Mean = 0.857, Std = 0.002\n",
      "ARI: Mean = 0.681, Std = 0.01\n",
      "SIL: Mean = 0.157, Std = 0.003\n"
     ]
    }
   ],
   "source": [
    "print(\"\\nAttack balance results:\")\n",
    "print_results(post_attack_balance, \"Post-Attack\", \"Office-31\", \"SFD\")\n",
    "\n",
    "print(\"\\nPost attack min cluster ratio results:\")\n",
    "print_results(post_attack_min_cluster_ratio, \"Post-Attack\", \"Office-31\", \"SFD\")\n",
    "\n",
    "print(\"\\nCombined attack grid results:\")\n",
    "print_results(post_attack_grid, \"Post-Attack\", \"Office-31\", \"SFD\")"
   ]
  }
 ],
 "metadata": {
  "kernelspec": {
   "display_name": "rbf",
   "language": "python",
   "name": "python3"
  },
  "language_info": {
   "codemirror_mode": {
    "name": "ipython",
    "version": 3
   },
   "file_extension": ".py",
   "mimetype": "text/x-python",
   "name": "python",
   "nbconvert_exporter": "python",
   "pygments_lexer": "ipython3",
   "version": "3.10.12"
  }
 },
 "nbformat": 4,
 "nbformat_minor": 2
}
