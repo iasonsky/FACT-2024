{
 "cells": [
  {
   "cell_type": "code",
   "execution_count": 2,
   "metadata": {},
   "outputs": [],
   "source": [
    "import joblib"
   ]
  },
  {
   "cell_type": "code",
   "execution_count": 3,
   "metadata": {},
   "outputs": [],
   "source": [
    "data = joblib.load('kfc_plot_data.dmp')"
   ]
  },
  {
   "cell_type": "code",
   "execution_count": 4,
   "metadata": {},
   "outputs": [],
   "source": [
    "X_test, y_test, s_test, labels_test = data"
   ]
  },
  {
   "cell_type": "code",
   "execution_count": 5,
   "metadata": {},
   "outputs": [
    {
     "data": {
      "text/plain": [
       "array([[ 0.21523387,  0.39130913,  0.5673844 , ..., -0.53708774,\n",
       "        -0.69715616, -0.85722459],\n",
       "       [ 0.39130913,  0.59939809,  0.82349388, ..., -0.80920406,\n",
       "        -0.9372588 , -0.98527933],\n",
       "       [-0.80920406, -0.68114932, -0.72916985, ..., -1.01729301,\n",
       "        -1.03329986, -1.0493067 ],\n",
       "       ...,\n",
       "       [-1.06531354, -1.06531354, -1.06531354, ...,  2.5202192 ,\n",
       "         1.87994549, -0.76118353],\n",
       "       [-1.0493067 , -1.06531354, -1.0493067 , ...,  2.37615761,\n",
       "         2.53622604, -0.53708774],\n",
       "       [-1.0493067 , -1.0493067 , -1.0493067 , ...,  0.96755547,\n",
       "         1.36772653, -0.63312879]])"
      ]
     },
     "execution_count": 5,
     "metadata": {},
     "output_type": "execute_result"
    }
   ],
   "source": [
    "X_test"
   ]
  }
 ],
 "metadata": {
  "kernelspec": {
   "display_name": "nlp1-practical1",
   "language": "python",
   "name": "python3"
  },
  "language_info": {
   "codemirror_mode": {
    "name": "ipython",
    "version": 3
   },
   "file_extension": ".py",
   "mimetype": "text/x-python",
   "name": "python",
   "nbconvert_exporter": "python",
   "pygments_lexer": "ipython3",
   "version": "3.10.12"
  }
 },
 "nbformat": 4,
 "nbformat_minor": 2
}
